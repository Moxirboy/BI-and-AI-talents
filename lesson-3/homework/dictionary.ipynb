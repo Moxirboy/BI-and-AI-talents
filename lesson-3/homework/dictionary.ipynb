{
 "cells": [
  {
   "cell_type": "code",
   "execution_count": 23,
   "metadata": {},
   "outputs": [
    {
     "name": "stdout",
     "output_type": "stream",
     "text": [
      "['name']\n",
      "{'age': 25, 'city': 'New York', 'name': 'Alice'}\n",
      "True\n",
      "25\n",
      "defaultdict(<function create_default_dict.<locals>.<lambda> at 0x709c583e8ea0>, {})\n",
      "4\n",
      "{'age': 25, 'city': 'New York', 'job': 'Engineer', 'name': 'Alice'}\n",
      "{'age': 25}\n",
      "{'name'}\n",
      "{'age': 25, 'name': 'Alice'}\n",
      "('name', 'Alice')\n"
     ]
    }
   ],
   "source": [
    "# In the first cell\n",
    "# Import necessary libraries\n",
    "import pprint\n",
    "\n",
    "# 1. Find Keys with Value\n",
    "def find_keys_with_value(d, target_value):\n",
    "    return [k for k, v in d.items() if v == target_value]\n",
    "\n",
    "# 2. Create a Dictionary from Lists\n",
    "def create_dict_from_lists(keys, values):\n",
    "    return dict(zip(keys, values))\n",
    "\n",
    "# 3. Check for Nested Dictionaries\n",
    "def has_nested_dict(d):\n",
    "    return any(isinstance(v, dict) for v in d.values())\n",
    "\n",
    "# 4. Get Nested Value\n",
    "def get_nested_value(d, key_path):\n",
    "    for key in key_path:\n",
    "        d = d.get(key, {})\n",
    "        if not isinstance(d, dict):\n",
    "            return d\n",
    "    return d\n",
    "\n",
    "# 5. Create Default Dictionary\n",
    "from collections import defaultdict\n",
    "def create_default_dict():\n",
    "    return defaultdict(lambda: 'Default Value')\n",
    "\n",
    "# 6. Count Unique Values\n",
    "def count_unique_values(d):\n",
    "    return len(set(d.values()))\n",
    "\n",
    "# 7. Sort Dictionary by Key\n",
    "def sort_dict_by_key(d):\n",
    "    return dict(sorted(d.items()))\n",
    "\n",
    "# 8. Sort Dictionary by Value\n",
    "def sort_dict_by_value(d):\n",
    "    return dict(sorted(d.items(), key=lambda item: item[1]))\n",
    "\n",
    "# 9. Filter by Value\n",
    "def filter_dict_by_value(d, condition):\n",
    "    return {k: v for k, v in d.items() if condition(v)}\n",
    "\n",
    "# 10. Check for Common Keys\n",
    "def check_common_keys(d1, d2):\n",
    "    return set(d1.keys()).intersection(set(d2.keys()))\n",
    "\n",
    "# 11. Create Dictionary from Tuple\n",
    "def create_dict_from_tuple(t):\n",
    "    return dict(t)\n",
    "\n",
    "# 12. Get the First Key-Value Pair\n",
    "def get_first_key_value_pair(d):\n",
    "    return next(iter(d.items())) if d else None\n",
    "\n",
    "# Test Data for demonstration\n",
    "my_dict = {\"name\": \"Alice\", \"age\": 25, \"city\": \"New York\", \"job\": \"Engineer\"}\n",
    "nested_dict = {\"name\": \"Alice\", \"details\": {\"age\": 25, \"city\": \"New York\"}}\n",
    "keys_list = [\"name\", \"age\", \"city\"]\n",
    "values_list = [\"Alice\", 25, \"New York\"]\n",
    "condition = lambda x: isinstance(x, int)  # Example condition: check if the value is an integer\n",
    "\n",
    "# Running some of the functions to demonstrate\n",
    "pprint.pprint(find_keys_with_value(my_dict, \"Alice\"))\n",
    "pprint.pprint(create_dict_from_lists(keys_list, values_list))\n",
    "pprint.pprint(has_nested_dict(nested_dict))\n",
    "pprint.pprint(get_nested_value(nested_dict, [\"details\", \"age\"]))\n",
    "pprint.pprint(create_default_dict())\n",
    "pprint.pprint(count_unique_values(my_dict))\n",
    "pprint.pprint(sort_dict_by_key(my_dict))\n",
    "pprint.pprint(filter_dict_by_value(my_dict, condition))\n",
    "pprint.pprint(check_common_keys(my_dict, nested_dict))\n",
    "pprint.pprint(create_dict_from_tuple([(\"name\", \"Alice\"), (\"age\", 25)]))\n",
    "pprint.pprint(get_first_key_value_pair(my_dict))\n",
    "\n"
   ]
  },
  {
   "cell_type": "markdown",
   "metadata": {},
   "source": [
    "Invert Dictionary: Given a dictionary, create a new dictionary that swaps keys and values."
   ]
  },
  {
   "cell_type": "code",
   "execution_count": 21,
   "metadata": {},
   "outputs": [
    {
     "data": {
      "text/plain": [
       "{'Alice': 'country', 25: 'age', 'New York': 'city', 'Engineer': 'job'}"
      ]
     },
     "execution_count": 21,
     "metadata": {},
     "output_type": "execute_result"
    }
   ],
   "source": [
    "inverted_dict = {v: k for k, v in dictmy.items()}\n",
    "inverted_dict"
   ]
  },
  {
   "cell_type": "markdown",
   "metadata": {},
   "source": [
    "Count Value Occurrences: Given a dictionary, count how many times a specific value appears across the keys."
   ]
  },
  {
   "cell_type": "code",
   "execution_count": 19,
   "metadata": {},
   "outputs": [
    {
     "data": {
      "text/plain": [
       "2"
      ]
     },
     "execution_count": 19,
     "metadata": {},
     "output_type": "execute_result"
    }
   ],
   "source": [
    "dictmy = {\"name\": \"Alice\", \"age\": 25, \"city\": \"New York\", \"job\": \"Engineer\", \"country\": \"Alice\"}\n",
    "\n",
    "counted = list(dictmy.values()).count(\"Alice\")\n",
    "counted"
   ]
  },
  {
   "cell_type": "markdown",
   "metadata": {},
   "source": [
    "Update Value: Given a dictionary, update the value for a specified key."
   ]
  },
  {
   "cell_type": "code",
   "execution_count": 18,
   "metadata": {},
   "outputs": [
    {
     "data": {
      "text/plain": [
       "{'2': 101}"
      ]
     },
     "execution_count": 18,
     "metadata": {},
     "output_type": "execute_result"
    }
   ],
   "source": [
    "dicts[\"2\"]=101\n",
    "dicts"
   ]
  },
  {
   "cell_type": "markdown",
   "metadata": {},
   "source": [
    "Get Key-Value Pair: Given a dictionary and a key, retrieve the key-value pair if the key exists."
   ]
  },
  {
   "cell_type": "code",
   "execution_count": 17,
   "metadata": {},
   "outputs": [
    {
     "data": {
      "text/plain": [
       "3"
      ]
     },
     "execution_count": 17,
     "metadata": {},
     "output_type": "execute_result"
    }
   ],
   "source": [
    "item  = dicts.get(\"2\",None)\n",
    "item"
   ]
  },
  {
   "cell_type": "markdown",
   "metadata": {},
   "source": [
    "Check if Dictionary is Empty: Determine if a dictionary has any elements."
   ]
  },
  {
   "cell_type": "code",
   "execution_count": 13,
   "metadata": {},
   "outputs": [
    {
     "name": "stdout",
     "output_type": "stream",
     "text": [
      "empty\n"
     ]
    }
   ],
   "source": [
    "if len(new_dict) == 0:\n",
    "    print(\"empty\")\n",
    "else:\n",
    "    print(\"non empty\")"
   ]
  },
  {
   "cell_type": "markdown",
   "metadata": {},
   "source": [
    "Clear Dictionary: Create a new empty dictionary."
   ]
  },
  {
   "cell_type": "code",
   "execution_count": 12,
   "metadata": {},
   "outputs": [
    {
     "data": {
      "text/plain": [
       "{}"
      ]
     },
     "execution_count": 12,
     "metadata": {},
     "output_type": "execute_result"
    }
   ],
   "source": [
    "new_dict.clear()\n",
    "new_dict"
   ]
  },
  {
   "cell_type": "markdown",
   "metadata": {},
   "source": [
    "Remove Key: Given a dictionary and a key, remove the key if it exists, handling the case if it doesn’t."
   ]
  },
  {
   "cell_type": "code",
   "execution_count": 10,
   "metadata": {},
   "outputs": [
    {
     "data": {
      "text/plain": [
       "2"
      ]
     },
     "execution_count": 10,
     "metadata": {},
     "output_type": "execute_result"
    }
   ],
   "source": [
    "item = dicts.pop(\"1\",None)\n",
    "item"
   ]
  },
  {
   "cell_type": "markdown",
   "metadata": {},
   "source": [
    "Merge Dictionaries: Given two dictionaries, create a new dictionary that combines both."
   ]
  },
  {
   "cell_type": "code",
   "execution_count": 9,
   "metadata": {},
   "outputs": [
    {
     "data": {
      "text/plain": [
       "{1: 1, 2: 4, 3: 6, 5: 8, '1': 2, '2': 3, '3': 4}"
      ]
     },
     "execution_count": 9,
     "metadata": {},
     "output_type": "execute_result"
    }
   ],
   "source": [
    "dicts2 = dict()\n",
    "dicts2[1]=1\n",
    "dicts2[2]=4\n",
    "dicts2[3]=6\n",
    "dicts2[5]=8\n",
    "new_dict = dicts2 | dicts\n",
    "new_dict"
   ]
  },
  {
   "cell_type": "markdown",
   "metadata": {},
   "source": [
    "Get All Values: Create a list that contains all the values in the dictionary."
   ]
  },
  {
   "cell_type": "code",
   "execution_count": 7,
   "metadata": {},
   "outputs": [
    {
     "data": {
      "text/plain": [
       "[2, 3, 4]"
      ]
     },
     "execution_count": 7,
     "metadata": {},
     "output_type": "execute_result"
    }
   ],
   "source": [
    "listdic = list(dicts.values())\n",
    "listdic"
   ]
  },
  {
   "cell_type": "markdown",
   "metadata": {},
   "source": [
    "Get All Keys: Create a list that contains all the keys in the dictionary."
   ]
  },
  {
   "cell_type": "code",
   "execution_count": 6,
   "metadata": {},
   "outputs": [
    {
     "data": {
      "text/plain": [
       "['1', '2', '3']"
      ]
     },
     "execution_count": 6,
     "metadata": {},
     "output_type": "execute_result"
    }
   ],
   "source": [
    "listdic = list(dicts.keys())\n",
    "listdic"
   ]
  },
  {
   "cell_type": "markdown",
   "metadata": {},
   "source": [
    "Count Keys: Determine the number of keys in the dictionary."
   ]
  },
  {
   "cell_type": "code",
   "execution_count": 4,
   "metadata": {},
   "outputs": [
    {
     "data": {
      "text/plain": [
       "3"
      ]
     },
     "execution_count": 4,
     "metadata": {},
     "output_type": "execute_result"
    }
   ],
   "source": [
    "count = len(dicts)\n",
    "count"
   ]
  },
  {
   "cell_type": "markdown",
   "metadata": {},
   "source": [
    "Check Key: Given a dictionary and a key, check if the key is present in the dictionary.\n"
   ]
  },
  {
   "cell_type": "code",
   "execution_count": 3,
   "metadata": {},
   "outputs": [
    {
     "name": "stdout",
     "output_type": "stream",
     "text": [
      "no\n"
     ]
    }
   ],
   "source": [
    "if \"5\" in dicts:\n",
    "    print(\"exist\")\n",
    "else:\n",
    "    print(\"no\")"
   ]
  },
  {
   "cell_type": "markdown",
   "metadata": {},
   "source": [
    "Get Value: Given a dictionary and a key, retrieve the associated value, considering what to return if the key doesn’t exist."
   ]
  },
  {
   "cell_type": "code",
   "execution_count": 2,
   "metadata": {},
   "outputs": [
    {
     "data": {
      "text/plain": [
       "'doesnt exist'"
      ]
     },
     "execution_count": 2,
     "metadata": {},
     "output_type": "execute_result"
    }
   ],
   "source": [
    "dicts = dict()\n",
    "dicts[\"1\"]=2\n",
    "dicts[\"2\"]=3\n",
    "dicts[\"3\"]=4\n",
    "item = dicts.get(\"2\",\"doesnt exist\")\n",
    "item"
   ]
  }
 ],
 "metadata": {
  "kernelspec": {
   "display_name": ".venv",
   "language": "python",
   "name": "python3"
  },
  "language_info": {
   "codemirror_mode": {
    "name": "ipython",
    "version": 3
   },
   "file_extension": ".py",
   "mimetype": "text/x-python",
   "name": "python",
   "nbconvert_exporter": "python",
   "pygments_lexer": "ipython3",
   "version": "3.12.3"
  }
 },
 "nbformat": 4,
 "nbformat_minor": 2
}
