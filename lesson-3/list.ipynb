{
 "cells": [
  {
   "cell_type": "markdown",
   "metadata": {},
   "source": [
    "Get Unique Elements in Order: Given a list, create a new list that contains unique elements while maintaining the original order."
   ]
  },
  {
   "cell_type": "code",
   "execution_count": 91,
   "metadata": {},
   "outputs": [
    {
     "data": {
      "text/plain": [
       "[3, 4, 1, 5, 9, 2, 6]"
      ]
     },
     "execution_count": 91,
     "metadata": {},
     "output_type": "execute_result"
    }
   ],
   "source": [
    "seen = set()\n",
    "[x for x in lst if not (x in seen or seen.add(x))]"
   ]
  },
  {
   "cell_type": "markdown",
   "metadata": {},
   "source": [
    "Create Nested List: Create a new list that contains sublists, where each sublist contains a specified number of elements from the original list."
   ]
  },
  {
   "cell_type": "code",
   "execution_count": 90,
   "metadata": {},
   "outputs": [
    {
     "data": {
      "text/plain": [
       "[[3, 4], [1, 5], [9, 2], [6, 5]]"
      ]
     },
     "execution_count": 90,
     "metadata": {},
     "output_type": "execute_result"
    }
   ],
   "source": [
    "n=2\n",
    "[lst[i:i+n] for i in range(0, len(lst), n)]"
   ]
  },
  {
   "cell_type": "markdown",
   "metadata": {},
   "source": [
    "Check Palindrome: Given a list, check if the list is a palindrome (reads the same forwards and backwards)."
   ]
  },
  {
   "cell_type": "code",
   "execution_count": 88,
   "metadata": {},
   "outputs": [
    {
     "data": {
      "text/plain": [
       "False"
      ]
     },
     "execution_count": 88,
     "metadata": {},
     "output_type": "execute_result"
    }
   ],
   "source": [
    "lst == lst[::-1]"
   ]
  },
  {
   "cell_type": "markdown",
   "metadata": {},
   "source": [
    "Sum of Negative Numbers: Given a list of numbers, calculate the sum of all negative numbers."
   ]
  },
  {
   "cell_type": "code",
   "execution_count": null,
   "metadata": {},
   "outputs": [],
   "source": [
    "sumlst=0\n",
    "for l in lst:\n",
    "    if l<0:\n",
    "        sumlst +=l\n",
    "sumlst"
   ]
  },
  {
   "cell_type": "markdown",
   "metadata": {},
   "source": [
    "Sum of Positive Numbers: Given a list of numbers, calculate the sum of all positive numbers."
   ]
  },
  {
   "cell_type": "code",
   "execution_count": 87,
   "metadata": {},
   "outputs": [
    {
     "data": {
      "text/plain": [
       "35"
      ]
     },
     "execution_count": 87,
     "metadata": {},
     "output_type": "execute_result"
    }
   ],
   "source": [
    "sumlst=0\n",
    "for l in lst:\n",
    "    if l>0:\n",
    "        sumlst +=l\n",
    "sumlst"
   ]
  },
  {
   "cell_type": "markdown",
   "metadata": {},
   "source": [
    "Create Range List: Create a list of numbers in a specified range (e.g., from 1 to 10)"
   ]
  },
  {
   "cell_type": "code",
   "execution_count": 82,
   "metadata": {},
   "outputs": [
    {
     "data": {
      "text/plain": [
       "[1, 2]"
      ]
     },
     "execution_count": 82,
     "metadata": {},
     "output_type": "execute_result"
    }
   ],
   "source": [
    "start =1\n",
    "end =2\n",
    "lst5 = list(range(start, end+1))\n",
    "lst5"
   ]
  },
  {
   "cell_type": "markdown",
   "metadata": {},
   "source": [
    "Rotate List: Given a list, create a new list that is a rotated version of the original list (shift elements to the right).\n"
   ]
  },
  {
   "cell_type": "code",
   "execution_count": 81,
   "metadata": {},
   "outputs": [
    {
     "data": {
      "text/plain": [
       "[5, 3, 4, 1, 5, 9, 2, 6]"
      ]
     },
     "execution_count": 81,
     "metadata": {},
     "output_type": "execute_result"
    }
   ],
   "source": [
    "n = 1\n",
    "n = n % len(lst) if lst else 0\n",
    "rotated = lst[-n:] + lst[:-n]\n",
    "rotated"
   ]
  },
  {
   "cell_type": "markdown",
   "metadata": {},
   "source": [
    "Find All Indices: Given a list and an element, find all the indices of that element in the list."
   ]
  },
  {
   "cell_type": "code",
   "execution_count": 78,
   "metadata": {},
   "outputs": [
    {
     "data": {
      "text/plain": [
       "[2]"
      ]
     },
     "execution_count": 78,
     "metadata": {},
     "output_type": "execute_result"
    }
   ],
   "source": [
    "element =1\n",
    "indices = [index for index, value in enumerate(lst) if value == element]\n",
    "indices"
   ]
  },
  {
   "cell_type": "markdown",
   "metadata": {},
   "source": [
    "Merge and Sort: Given two lists, create a new sorted list that merges both lists."
   ]
  },
  {
   "cell_type": "code",
   "execution_count": 77,
   "metadata": {},
   "outputs": [
    {
     "data": {
      "text/plain": [
       "[1, 1, 1, 1, 1, 1, 1, 2, 2, 2, 2, 3, 3, 3, 3, 3, 12, 43123]"
      ]
     },
     "execution_count": 77,
     "metadata": {},
     "output_type": "execute_result"
    }
   ],
   "source": [
    "merged = list1 + list2\n",
    "lstsorted = sorted(merged)\n",
    "lstsorted"
   ]
  },
  {
   "cell_type": "markdown",
   "metadata": {},
   "source": [
    "Repeat Elements: Given a list and a number, create a new list where each element is repeated that number of times."
   ]
  },
  {
   "cell_type": "code",
   "execution_count": 76,
   "metadata": {},
   "outputs": [
    {
     "data": {
      "text/plain": [
       "[3, 3, 3, 4, 4, 4, 1, 1, 1, 5, 5, 5, 9, 9, 9, 2, 2, 2, 6, 6, 6, 5, 5, 5]"
      ]
     },
     "execution_count": 76,
     "metadata": {},
     "output_type": "execute_result"
    }
   ],
   "source": [
    "n = 3\n",
    "repected = [item for item in lst for _ in range(n)]\n",
    "repected"
   ]
  },
  {
   "cell_type": "markdown",
   "metadata": {},
   "source": [
    "Check if List is Sorted: Determine if the list is sorted in ascending order and return a boolean."
   ]
  },
  {
   "cell_type": "code",
   "execution_count": 74,
   "metadata": {},
   "outputs": [
    {
     "name": "stdout",
     "output_type": "stream",
     "text": [
      "not sorted\n"
     ]
    }
   ],
   "source": [
    "sortedlist = sorted(lst)\n",
    "if sortedlist == list:\n",
    "    print(\"sorted\")\n",
    "else:\n",
    "    print(\"not sorted\")"
   ]
  },
  {
   "cell_type": "markdown",
   "metadata": {},
   "source": [
    "Remove Element by Index: Given a list and an index, remove the element at that index if it exists."
   ]
  },
  {
   "cell_type": "code",
   "execution_count": 71,
   "metadata": {},
   "outputs": [
    {
     "data": {
      "text/plain": [
       "[3, 4, 1, 5, 9, 2, 6, 5]"
      ]
     },
     "execution_count": 71,
     "metadata": {},
     "output_type": "execute_result"
    }
   ],
   "source": [
    "index = int(input(\"give index: \"))\n",
    "lst.remove(index)\n",
    "lst"
   ]
  },
  {
   "cell_type": "markdown",
   "metadata": {},
   "source": [
    "Find Minimum of Sublist: Given a list, find the minimum element of a specified sublist.\n"
   ]
  },
  {
   "cell_type": "code",
   "execution_count": 70,
   "metadata": {},
   "outputs": [
    {
     "data": {
      "text/plain": [
       "1"
      ]
     },
     "execution_count": 70,
     "metadata": {},
     "output_type": "execute_result"
    }
   ],
   "source": [
    "lenst = len(lst)\n",
    "start = int(input(f\"len is {lenst} start: \"))\n",
    "end = int(input(f\"len is {lenst} end : \"))\n",
    "submin= min(lst[start:end])\n",
    "submin"
   ]
  },
  {
   "cell_type": "markdown",
   "metadata": {},
   "source": [
    "Find Maximum of Sublist: Given a list, find the maximum element of a specified sublist.\n"
   ]
  },
  {
   "cell_type": "code",
   "execution_count": 69,
   "metadata": {},
   "outputs": [
    {
     "data": {
      "text/plain": [
       "1"
      ]
     },
     "execution_count": 69,
     "metadata": {},
     "output_type": "execute_result"
    }
   ],
   "source": [
    "lenst = len(lst)\n",
    "start = int(input(f\"len is {lenst} start: \"))\n",
    "end = int(input(f\"len is {lenst} end : \"))\n",
    "submax= max(lst[start:end])\n",
    "submax"
   ]
  },
  {
   "cell_type": "markdown",
   "metadata": {},
   "source": [
    "Get Middle Element: Given a list, find the middle element. If the list has an even number of elements, return the two middle elements."
   ]
  },
  {
   "cell_type": "code",
   "execution_count": 68,
   "metadata": {},
   "outputs": [
    {
     "name": "stdout",
     "output_type": "stream",
     "text": [
      "element: 5\n"
     ]
    }
   ],
   "source": [
    "if len(lst) % 2 ==0:\n",
    "    st = lst[int(len(lst)/2)]\n",
    "    nd = lst[int(len(lst)/2+1)]\n",
    "    print(f\"first: {st}, second: {nd}\")\n",
    "else:\n",
    "    print(f\"element: {lst[int(len(lst)/2)]}\")"
   ]
  },
  {
   "cell_type": "markdown",
   "metadata": {},
   "source": [
    "Create a Copy: Create a new list that is a copy of the original list."
   ]
  },
  {
   "cell_type": "code",
   "execution_count": 66,
   "metadata": {},
   "outputs": [
    {
     "data": {
      "text/plain": [
       "[3, 1, 4, 1, 5, 9, 2, 6, 5]"
      ]
     },
     "execution_count": 66,
     "metadata": {},
     "output_type": "execute_result"
    }
   ],
   "source": [
    "copylst = lst.copy()\n",
    "copylst"
   ]
  },
  {
   "cell_type": "markdown",
   "metadata": {},
   "source": [
    "List Length: Determine the number of elements in the list."
   ]
  },
  {
   "cell_type": "code",
   "execution_count": 65,
   "metadata": {},
   "outputs": [
    {
     "data": {
      "text/plain": [
       "9"
      ]
     },
     "execution_count": 65,
     "metadata": {},
     "output_type": "execute_result"
    }
   ],
   "source": [
    "lenlst = len(lst)\n",
    "lenlst"
   ]
  },
  {
   "cell_type": "markdown",
   "metadata": {},
   "source": [
    "Filter Odd Numbers: Given a list of integers, create a new list that contains only the odd numbers.\n"
   ]
  },
  {
   "cell_type": "code",
   "execution_count": 64,
   "metadata": {},
   "outputs": [
    {
     "data": {
      "text/plain": [
       "[3, 1, 1, 5, 9, 5]"
      ]
     },
     "execution_count": 64,
     "metadata": {},
     "output_type": "execute_result"
    }
   ],
   "source": [
    "oddlst = [ x for x in lst if x%2 !=0 ]\n",
    "oddlst"
   ]
  },
  {
   "cell_type": "markdown",
   "metadata": {},
   "source": [
    "Filter Even Numbers: Given a list of integers, create a new list that contains only the even numbers."
   ]
  },
  {
   "cell_type": "code",
   "execution_count": 63,
   "metadata": {},
   "outputs": [
    {
     "data": {
      "text/plain": [
       "[4, 2, 6]"
      ]
     },
     "execution_count": 63,
     "metadata": {},
     "output_type": "execute_result"
    }
   ],
   "source": [
    "evenlst = [ x for x in lst if x%2 ==0 ]\n",
    "evenlst"
   ]
  },
  {
   "cell_type": "markdown",
   "metadata": {},
   "source": [
    "Find Second Smallest: From a given list, find the second smallest element."
   ]
  },
  {
   "cell_type": "code",
   "execution_count": 61,
   "metadata": {},
   "outputs": [
    {
     "name": "stdout",
     "output_type": "stream",
     "text": [
      "Second max value: 1\n"
     ]
    }
   ],
   "source": [
    "def min(lst):\n",
    "    min = lst[0]\n",
    "    for l in lst:\n",
    "        if min>l:\n",
    "            min =l\n",
    "    return min\n",
    "\n",
    "lst = [3, 1, 4, 1, 5, 9, 2, 6, 5]\n",
    "\n",
    "if len(lst) < 2:\n",
    "    print(\"List must contain at least two distinct elements\")\n",
    "    \n",
    "minlst = lst.copy()\n",
    "minmn = max(minlst)\n",
    "minlst.remove(minmn)\n",
    "minsec = min(minlst)\n",
    "print(\"Second max value:\", minsec)"
   ]
  },
  {
   "cell_type": "markdown",
   "metadata": {},
   "source": [
    "Find Second Largest: From a given list, find the second largest element.\n"
   ]
  },
  {
   "cell_type": "code",
   "execution_count": 60,
   "metadata": {},
   "outputs": [
    {
     "name": "stdout",
     "output_type": "stream",
     "text": [
      "Second max value: 6\n"
     ]
    }
   ],
   "source": [
    "def max(lst):\n",
    "    max = lst[0]\n",
    "    for l in lst:\n",
    "        if max<l:\n",
    "            max =l\n",
    "    return max\n",
    "\n",
    "lst = [3, 1, 4, 1, 5, 9, 2, 6, 5]\n",
    "\n",
    "if len(lst) < 2:\n",
    "    print(\"List must contain at least two distinct elements\")\n",
    "    \n",
    "maxlst = lst.copy()\n",
    "maxmx = max(maxlst)\n",
    "maxlst.remove(maxmx)\n",
    "maxsec = max(maxlst)\n",
    "print(\"Second max value:\", maxsec)"
   ]
  },
  {
   "cell_type": "markdown",
   "metadata": {},
   "source": [
    "Replace Element: Given a list, replace the first occurrence of a specified element with another element.\n"
   ]
  },
  {
   "cell_type": "code",
   "execution_count": 59,
   "metadata": {},
   "outputs": [
    {
     "data": {
      "text/plain": [
       "[1, 2, 3, 4, 5]"
      ]
     },
     "execution_count": 59,
     "metadata": {},
     "output_type": "execute_result"
    }
   ],
   "source": [
    "felem = int(input(\"enter element\"))\n",
    "selem = int(input(\"enter element\"))\n",
    "try :\n",
    "    index = -1\n",
    "    index = lst.index(felem)\n",
    "except ValueError:\n",
    "    print(\"specidied first element is not in list\")\n",
    "if index!=-1:\n",
    "    lst[index]=selem\n",
    "lst"
   ]
  },
  {
   "cell_type": "markdown",
   "metadata": {},
   "source": [
    "Find Sublist: Given a list and a sublist, check if the sublist exists within the list.\n"
   ]
  },
  {
   "cell_type": "code",
   "execution_count": 56,
   "metadata": {},
   "outputs": [
    {
     "name": "stdout",
     "output_type": "stream",
     "text": [
      "True\n"
     ]
    }
   ],
   "source": [
    "def is_sublist(lst, sublist):\n",
    "    return any(all(lst[i + j] == sublist[j] for j in range(len(sublist))) for i in range(len(lst) - len(sublist) + 1))\n",
    "\n",
    "# Example usage:\n",
    "lst = [1, 2, 3, 4, 5]\n",
    "sublist = [3, 4]\n",
    "print(is_sublist(lst, sublist))  \n"
   ]
  },
  {
   "cell_type": "markdown",
   "metadata": {},
   "source": [
    "Concatenate Lists: Given two lists, create a new list that combines both lists."
   ]
  },
  {
   "cell_type": "code",
   "execution_count": 57,
   "metadata": {},
   "outputs": [
    {
     "data": {
      "text/plain": [
       "[1, 2, 1, 1, 3, 43123, 12, 2, 1, 2, 3, 1, 2, 3, 1, 3, 1, 3]"
      ]
     },
     "execution_count": 57,
     "metadata": {},
     "output_type": "execute_result"
    }
   ],
   "source": [
    "list2 = [1,2,3,1,3,1,3]\n",
    "concate= list1 + list2\n",
    "concate"
   ]
  },
  {
   "cell_type": "markdown",
   "metadata": {},
   "source": [
    "Count Odd Numbers: Given a list of integers, count how many of them are odd."
   ]
  },
  {
   "cell_type": "code",
   "execution_count": 58,
   "metadata": {},
   "outputs": [
    {
     "data": {
      "text/plain": [
       "7"
      ]
     },
     "execution_count": 58,
     "metadata": {},
     "output_type": "execute_result"
    }
   ],
   "source": [
    "len([x for x in list1 if x % 2 != 0])"
   ]
  },
  {
   "cell_type": "markdown",
   "metadata": {},
   "source": [
    "Count Even Numbers: Given a list of integers, count how many of them are even."
   ]
  },
  {
   "cell_type": "code",
   "execution_count": 26,
   "metadata": {},
   "outputs": [
    {
     "data": {
      "text/plain": [
       "4"
      ]
     },
     "execution_count": 26,
     "metadata": {},
     "output_type": "execute_result"
    }
   ],
   "source": [
    "len([x for x in list1 if x % 2 == 0])"
   ]
  },
  {
   "cell_type": "markdown",
   "metadata": {},
   "source": [
    "Check for Empty List: Determine if a list is empty and return a boolean."
   ]
  },
  {
   "cell_type": "code",
   "execution_count": 25,
   "metadata": {},
   "outputs": [],
   "source": [
    "length = len(list1)\n",
    "if length ==0:\n",
    "    False\n",
    "else:\n",
    "    True"
   ]
  },
  {
   "cell_type": "markdown",
   "metadata": {},
   "source": [
    "Index of Element: Given a list and an element, find the index of the first occurrence of the element."
   ]
  },
  {
   "cell_type": "code",
   "execution_count": 23,
   "metadata": {},
   "outputs": [
    {
     "name": "stdout",
     "output_type": "stream",
     "text": [
      "index is 0\n"
     ]
    }
   ],
   "source": [
    "element = int(input(\"give me a number: \"))\n",
    "try:\n",
    "    index =-1\n",
    "    index = list1.index(element)\n",
    "except ValueError:\n",
    "    print(\"No value in list\")\n",
    "\n",
    "if index != -1:\n",
    "    print(f\"index is {index}\")"
   ]
  },
  {
   "cell_type": "markdown",
   "metadata": {},
   "source": [
    "Insert Element: Given a list and an element, insert the element at a specified index."
   ]
  },
  {
   "cell_type": "code",
   "execution_count": 20,
   "metadata": {},
   "outputs": [
    {
     "data": {
      "text/plain": [
       "[1, 2, 1, 1, 3, 43123, 12, 2, 1, 2, 3]"
      ]
     },
     "execution_count": 20,
     "metadata": {},
     "output_type": "execute_result"
    }
   ],
   "source": [
    "element = int(input(\"give me a number: \"))\n",
    "index = int(input(\"which index should it be inserted: \"))\n",
    "list1.insert(index+1, element)\n",
    "list1\n"
   ]
  },
  {
   "cell_type": "markdown",
   "metadata": {},
   "source": [
    "Remove Duplicates: Given a list, create a new list that contains only unique elements from the original list."
   ]
  },
  {
   "cell_type": "code",
   "execution_count": 4,
   "metadata": {},
   "outputs": [
    {
     "name": "stdout",
     "output_type": "stream",
     "text": [
      "[1, 2, 3, 43123, 12]\n"
     ]
    }
   ],
   "source": [
    "unique_list = []\n",
    "for item in list1:\n",
    "    if item not in unique_list:\n",
    "        unique_list.append(item)\n",
    "print(unique_list)"
   ]
  },
  {
   "cell_type": "markdown",
   "metadata": {},
   "source": [
    "Sort List: Create a new list that contains the elements of the original list in sorted order."
   ]
  },
  {
   "cell_type": "code",
   "execution_count": 5,
   "metadata": {},
   "outputs": [
    {
     "name": "stdout",
     "output_type": "stream",
     "text": [
      "sorted one is : [1, 1, 2, 2, 2, 3, 3, 12, 43123]\n"
     ]
    }
   ],
   "source": [
    "sorted_one = sorted(list1)\n",
    "print(f\"sorted one is : {sorted_one}\")"
   ]
  },
  {
   "cell_type": "markdown",
   "metadata": {},
   "source": [
    "Reverse List: Create a new list that contains the elements of the original list in reverse order."
   ]
  },
  {
   "cell_type": "code",
   "execution_count": 6,
   "metadata": {},
   "outputs": [
    {
     "name": "stdout",
     "output_type": "stream",
     "text": [
      "reversed is : [3, 2, 1, 2, 12, 43123, 3, 2, 1]\n"
     ]
    }
   ],
   "source": [
    "reversed = list1[::-1]\n",
    "print(f\"reversed is : {reversed}\")"
   ]
  },
  {
   "cell_type": "markdown",
   "metadata": {},
   "source": [
    "Slice List: Create a new list that contains only the first three elements of the original list."
   ]
  },
  {
   "cell_type": "code",
   "execution_count": 7,
   "metadata": {},
   "outputs": [
    {
     "name": "stdout",
     "output_type": "stream",
     "text": [
      "sliced one: [1, 2, 3]\n"
     ]
    }
   ],
   "source": [
    "if len(list1) < 4:\n",
    "    print(\"Elements are not enough for slicing\")\n",
    "else:\n",
    "    sliced = list1[:3]\n",
    "    print(f\"sliced one: {sliced}\")"
   ]
  },
  {
   "cell_type": "markdown",
   "metadata": {},
   "source": [
    "Last Element: Access the last element of a list, considering what to return if the list is empty."
   ]
  },
  {
   "cell_type": "code",
   "execution_count": 8,
   "metadata": {},
   "outputs": [
    {
     "name": "stdout",
     "output_type": "stream",
     "text": [
      "last element is : list[-1]\n"
     ]
    }
   ],
   "source": [
    "if len(list1) == 0:\n",
    "    print(\"list is empty\")\n",
    "else:\n",
    "    print(f\"last element is : {list[-1]}\")"
   ]
  },
  {
   "cell_type": "markdown",
   "metadata": {},
   "source": [
    "First Element: Access the first element of a list, considering what to return if the list is empty."
   ]
  },
  {
   "cell_type": "code",
   "execution_count": 9,
   "metadata": {},
   "outputs": [
    {
     "name": "stdout",
     "output_type": "stream",
     "text": [
      "list first element: list[0]\n"
     ]
    }
   ],
   "source": [
    "if len(list1) == 0:\n",
    "    print(\"list is empty\")\n",
    "else:\n",
    "    print(f\"list first element: {list[0]}\")"
   ]
  },
  {
   "cell_type": "markdown",
   "metadata": {},
   "source": [
    "Check Element: Given a list and an element, check if the element is present in the list."
   ]
  },
  {
   "cell_type": "code",
   "execution_count": 10,
   "metadata": {},
   "outputs": [
    {
     "name": "stdout",
     "output_type": "stream",
     "text": [
      "index is 0\n"
     ]
    }
   ],
   "source": [
    "wanted = int(input(\"give wanted number\"))\n",
    "try:\n",
    "    index = -1\n",
    "    index = list1.index(wanted)\n",
    "except ValueError as e:\n",
    "    print(\"there is no wanted value in list\")\n",
    "if index != -1:\n",
    "    print(f\"index is {index}\")"
   ]
  },
  {
   "cell_type": "markdown",
   "metadata": {},
   "source": [
    "Min Element: From a given list, determine the smallest element."
   ]
  },
  {
   "cell_type": "code",
   "execution_count": 11,
   "metadata": {},
   "outputs": [
    {
     "name": "stdout",
     "output_type": "stream",
     "text": [
      "min is 1\n"
     ]
    }
   ],
   "source": [
    "min  = list1[0]\n",
    "for l in list1:\n",
    "    if min>l:\n",
    "        min=l\n",
    "        \n",
    "print(f\"min is {min}\")"
   ]
  },
  {
   "cell_type": "markdown",
   "metadata": {},
   "source": [
    "Max Element: From a given list, determine the largest element."
   ]
  },
  {
   "cell_type": "code",
   "execution_count": 12,
   "metadata": {},
   "outputs": [
    {
     "name": "stdout",
     "output_type": "stream",
     "text": [
      "Max is 43123\n"
     ]
    }
   ],
   "source": [
    "max = list1[0]\n",
    "for l in list1:\n",
    "    if l>max:\n",
    "        max = l\n",
    "        \n",
    "print(f\"Max is {max}\")"
   ]
  },
  {
   "cell_type": "markdown",
   "metadata": {},
   "source": [
    "Sum of Elements: Given a list of numbers, calculate the total of all the elements.\n"
   ]
  },
  {
   "cell_type": "code",
   "execution_count": 13,
   "metadata": {},
   "outputs": [
    {
     "name": "stdout",
     "output_type": "stream",
     "text": [
      "43149\n"
     ]
    }
   ],
   "source": [
    "sum = 0\n",
    "for l in list1:\n",
    "    sum+=l\n",
    "print(sum)"
   ]
  },
  {
   "cell_type": "markdown",
   "metadata": {},
   "source": [
    "Count Occurrences: Given a list and an element, find how many times the element appears in the list."
   ]
  },
  {
   "cell_type": "code",
   "execution_count": 14,
   "metadata": {},
   "outputs": [
    {
     "name": "stdout",
     "output_type": "stream",
     "text": [
      "{1: 1, 2: 2, 3: 1, 43123: 0, 12: 0}\n"
     ]
    }
   ],
   "source": [
    "occurance = {}\n",
    "\n",
    "for l in list1:\n",
    "    if l in occurance:\n",
    "        occurance[l]= occurance[l] + 1\n",
    "    else:\n",
    "        occurance[l] = 0\n",
    "\n",
    "print(occurance)"
   ]
  },
  {
   "cell_type": "code",
   "execution_count": 15,
   "metadata": {},
   "outputs": [],
   "source": [
    "list1 = [1,2,3,43123,12,2,1,2,3]"
   ]
  }
 ],
 "metadata": {
  "kernelspec": {
   "display_name": ".venv",
   "language": "python",
   "name": "python3"
  },
  "language_info": {
   "codemirror_mode": {
    "name": "ipython",
    "version": 3
   },
   "file_extension": ".py",
   "mimetype": "text/x-python",
   "name": "python",
   "nbconvert_exporter": "python",
   "pygments_lexer": "ipython3",
   "version": "3.12.3"
  }
 },
 "nbformat": 4,
 "nbformat_minor": 2
}
